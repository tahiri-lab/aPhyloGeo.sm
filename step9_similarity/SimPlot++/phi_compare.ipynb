{
  "nbformat": 4,
  "nbformat_minor": 0,
  "metadata": {
    "colab": {
      "provenance": []
    },
    "kernelspec": {
      "name": "python3",
      "display_name": "Python 3"
    },
    "language_info": {
      "name": "python"
    }
  },
  "cells": [
    {
      "cell_type": "code",
      "execution_count": 1,
      "metadata": {
        "id": "4iJq-gq2RcoT"
      },
      "outputs": [],
      "source": [
        "import pandas as pd"
      ]
    },
    {
      "cell_type": "code",
      "source": [
        "def get_PHI(file):\n",
        "  data = []\n",
        "  with open(file, 'r') as file:\n",
        "      for line in file:\n",
        "          if 'Checking' in line:\n",
        "              position = line.split('at')[2].split('between')[0].strip()\n",
        "          elif 'PHI (Normal):' in line:\n",
        "              phi_value = float(line.split(':')[1].strip())\n",
        "              data.append([position, phi_value])\n",
        "\n",
        "  # Create a DataFrame from the extracted data\n",
        "  df = pd.DataFrame(data, columns=['Position', 'PHI'])\n",
        "  return df"
      ],
      "metadata": {
        "id": "o-bmqwI9VPAi"
      },
      "execution_count": 16,
      "outputs": []
    },
    {
      "cell_type": "markdown",
      "source": [
        "Note: for each report file, we delete the header manually\n"
      ],
      "metadata": {
        "id": "a0Jjn5LHW5VO"
      }
    },
    {
      "cell_type": "code",
      "source": [
        "pp1ab_50 = get_PHI('/content/Phi-pp1ab-GBH-50w.txt')\n",
        "pp1ab_50"
      ],
      "metadata": {
        "id": "2cMh_l-pVieE"
      },
      "execution_count": null,
      "outputs": []
    },
    {
      "cell_type": "code",
      "source": [
        "pp1ab_100 = get_PHI('/content/Phi-pp1ab-GBH_100w.txt')\n",
        "pp1ab_100"
      ],
      "metadata": {
        "id": "bGEZFgUxVia6"
      },
      "execution_count": null,
      "outputs": []
    },
    {
      "cell_type": "code",
      "source": [
        "pp1ab_150 = get_PHI('/content/phi-pp1ab-GBH-150w.txt')\n",
        "pp1ab_150"
      ],
      "metadata": {
        "id": "mj5dRzTHViYM"
      },
      "execution_count": null,
      "outputs": []
    },
    {
      "cell_type": "code",
      "source": [
        "pp1ab_200 = get_PHI('/content/phi-pp1ab-GBH-200w.txt')\n",
        "pp1ab_200"
      ],
      "metadata": {
        "id": "vu3nJjXgViVl"
      },
      "execution_count": null,
      "outputs": []
    },
    {
      "cell_type": "code",
      "source": [
        "pp1ab_250 = get_PHI('/content/phi-pp1ab-GBH-250w.txt')\n",
        "pp1ab_250"
      ],
      "metadata": {
        "id": "aKpikT7HViSx"
      },
      "execution_count": null,
      "outputs": []
    },
    {
      "cell_type": "code",
      "source": [
        "pp1ab_300 = get_PHI('/content/phi-pp1ab-GBH-300w.txt')\n",
        "pp1ab_300"
      ],
      "metadata": {
        "id": "1hHp3Y9aViQB"
      },
      "execution_count": null,
      "outputs": []
    },
    {
      "cell_type": "code",
      "source": [
        "pp1ab_350 = get_PHI('/content/phi-pp1ab-GBH-350w.txt')\n",
        "pp1ab_350"
      ],
      "metadata": {
        "id": "nkdWMeoUViNU"
      },
      "execution_count": null,
      "outputs": []
    },
    {
      "cell_type": "code",
      "source": [
        "pp1ab_400 = get_PHI('/content/phi-pp1ab-GBH-400w.txt')\n",
        "pp1ab_400"
      ],
      "metadata": {
        "id": "B4P6D71EViFq"
      },
      "execution_count": null,
      "outputs": []
    },
    {
      "cell_type": "code",
      "source": [
        "pp1ab_450 = get_PHI('/content/phi-pp1ab-GBH-450.txt')\n",
        "pp1ab_450\n"
      ],
      "metadata": {
        "id": "jzHiB4dXViDK"
      },
      "execution_count": null,
      "outputs": []
    },
    {
      "cell_type": "code",
      "source": [
        "import pandas as pd\n",
        "\n",
        "# Replace df1, df2, df3 with your actual DataFrames\n",
        "dfs = [pp1ab_50,pp1ab_100,pp1ab_150,pp1ab_200,pp1ab_250,pp1ab_300,pp1ab_350,pp1ab_400,pp1ab_450]  # Add all your DataFrames to this list\n",
        "\n",
        "# Create a list of DataFrames with 'Position' as the index\n",
        "dfs_with_index = []\n",
        "for i, df in enumerate(dfs):\n",
        "    df_with_index = df.set_index('Position')\n",
        "    df_with_index = df_with_index.rename(columns={'PHI': f'PHI_{i + 1}'})\n",
        "    dfs_with_index.append(df_with_index)\n",
        "\n",
        "# Merge the DataFrames based on 'Position'\n",
        "merged_df = pd.concat(dfs_with_index, axis=1)\n",
        "\n",
        "print(merged_df)"
      ],
      "metadata": {
        "colab": {
          "base_uri": "https://localhost:8080/"
        },
        "id": "FTyojeZeVh-D",
        "outputId": "acae51e9-71a5-4d72-fb79-eeebd195d9f6"
      },
      "execution_count": 32,
      "outputs": [
        {
          "output_type": "stream",
          "name": "stdout",
          "text": [
            "          PHI_1  PHI_2  PHI_3  PHI_4  PHI_5  PHI_6  PHI_7  PHI_8  PHI_9\n",
            "Position                                                               \n",
            "500       0.556  0.508  0.908  0.940  0.954  0.974  0.992  0.997  0.996\n",
            "510       0.706  0.588  0.929  0.947  0.967  0.981  0.994  0.998  0.997\n",
            "520       0.776  0.644  0.943  0.953  0.974  0.985  0.995  0.998  0.998\n",
            "530       0.869  0.673  0.937  0.946  0.974  0.983  0.994  0.997  0.997\n",
            "540       0.912  0.727  0.949  0.955  0.980  0.987  0.995  0.997  0.997\n",
            "...         ...    ...    ...    ...    ...    ...    ...    ...    ...\n",
            "5060      0.673  0.694  0.474  0.369  0.412  0.481  0.554  0.628  0.659\n",
            "5070      0.660  0.769  0.561  0.414  0.447  0.514  0.584  0.665  0.682\n",
            "5080      0.675  0.836  0.667  0.492  0.508  0.567  0.643  0.711  0.706\n",
            "5090      0.626  0.834  0.712  0.515  0.523  0.572  0.632  0.701  0.703\n",
            "5100      0.655  0.849  0.805  0.593  0.579  0.619  0.677  0.727  0.726\n",
            "\n",
            "[461 rows x 9 columns]\n"
          ]
        }
      ]
    },
    {
      "cell_type": "code",
      "source": [
        "merged_df.to_csv('PHI_all_pp1ab.csv')"
      ],
      "metadata": {
        "id": "nqT8efKdVh7A"
      },
      "execution_count": 33,
      "outputs": []
    },
    {
      "cell_type": "markdown",
      "source": [
        "## For spike"
      ],
      "metadata": {
        "id": "p3RQbQypbeji"
      }
    },
    {
      "cell_type": "code",
      "source": [
        "spike_50 = get_PHI('/content/phi-spike-GBH-50w.txt')\n",
        "spike_50"
      ],
      "metadata": {
        "id": "qcJRz26MVh4Q"
      },
      "execution_count": null,
      "outputs": []
    },
    {
      "cell_type": "code",
      "source": [
        "spike_100 = get_PHI('/content/Phi-spike-GBH-100w.txt')\n",
        "spike_100"
      ],
      "metadata": {
        "id": "B9OduE_KVhy6"
      },
      "execution_count": null,
      "outputs": []
    },
    {
      "cell_type": "code",
      "source": [
        "spike_150 = get_PHI('/content/phi-spike-GBH-150.txt')\n",
        "spike_150"
      ],
      "metadata": {
        "id": "yKlaKNBHdOc_"
      },
      "execution_count": null,
      "outputs": []
    },
    {
      "cell_type": "code",
      "source": [
        "spike_200 = get_PHI('/content/phi-spike-GBH-200.txt')\n",
        "spike_200"
      ],
      "metadata": {
        "id": "Tkdn0gFcdOZ9"
      },
      "execution_count": null,
      "outputs": []
    },
    {
      "cell_type": "code",
      "source": [
        "import pandas as pd\n",
        "\n",
        "# Replace df1, df2, df3 with your actual DataFrames\n",
        "dfs = [spike_50,spike_100,spike_150,spike_200]  # Add all your DataFrames to this list\n",
        "\n",
        "# Create a list of DataFrames with 'Position' as the index\n",
        "dfs_with_index = []\n",
        "for i, df in enumerate(dfs):\n",
        "    df_with_index = df.set_index('Position')\n",
        "    df_with_index = df_with_index.rename(columns={'PHI': f'PHI_{i + 1}'})\n",
        "    dfs_with_index.append(df_with_index)\n",
        "\n",
        "# Merge the DataFrames based on 'Position'\n",
        "merged_df = pd.concat(dfs_with_index, axis=1)\n",
        "\n",
        "print(merged_df)"
      ],
      "metadata": {
        "colab": {
          "base_uri": "https://localhost:8080/"
        },
        "id": "c7cF8v8UdOXJ",
        "outputId": "008f9233-4267-44dc-b27d-39b760389f89"
      },
      "execution_count": 38,
      "outputs": [
        {
          "output_type": "stream",
          "name": "stdout",
          "text": [
            "           PHI_1   PHI_2   PHI_3  PHI_4\n",
            "Position                               \n",
            "250       0.8640  0.9030  0.9060  0.958\n",
            "260       0.2180  0.4030  0.5110  0.712\n",
            "270       0.3060  0.4550  0.5290  0.709\n",
            "280       0.4580  0.5330  0.5590  0.719\n",
            "290       0.5450  0.5480  0.5710  0.711\n",
            "300       0.6900  0.6080  0.6040  0.703\n",
            "310       0.7380  0.5790  0.6080  0.668\n",
            "320       0.8660  0.6670  0.6360  0.688\n",
            "330       0.9130  0.7130  0.6690  0.693\n",
            "340       0.8760  0.7050  0.6470  0.665\n",
            "350       0.8360  0.7290  0.6450  0.641\n",
            "360       0.7740  0.7580  0.6230  0.570\n",
            "370       0.7640  0.8370  0.6670  0.552\n",
            "380       0.7640  0.8820  0.6670  0.514\n",
            "390       0.7670  0.8490  0.6100  0.431\n",
            "400       0.7650  0.7950  0.5570  0.403\n",
            "410       0.7150  0.6480  0.4510  0.311\n",
            "420       0.7290  0.5670  0.3840  0.276\n",
            "430       0.6010  0.4330  0.2950  0.211\n",
            "440       0.4130  0.2420  0.1720  0.141\n",
            "450       0.2500  0.1210  0.1120  0.119\n",
            "460       0.1970  0.0798  0.0864  0.112\n",
            "470       0.7170  0.3360  0.2740  0.373\n",
            "480       0.4480  0.2310  0.2120  0.349\n",
            "490       0.3510  0.2120  0.1900  0.317\n",
            "500       0.1050  0.1190  0.1360  0.265\n",
            "510       0.0193  0.0704  0.0900  0.207\n",
            "520       0.7770  0.7400  0.7000  0.835\n",
            "530       0.7770  0.7410  0.6950  0.832\n",
            "540       0.7670  0.7550  0.7030  0.835\n",
            "550       0.8220  0.8020  0.7490  0.856\n"
          ]
        }
      ]
    },
    {
      "cell_type": "code",
      "source": [
        "merged_df.to_csv('PHI_all_spike.csv')"
      ],
      "metadata": {
        "id": "SU1Zd2kLVhv_"
      },
      "execution_count": 39,
      "outputs": []
    },
    {
      "cell_type": "markdown",
      "source": [
        "## some test"
      ],
      "metadata": {
        "id": "vjyL1VxueTog"
      }
    },
    {
      "cell_type": "code",
      "source": [
        "# Read the text file and extract data\n",
        "data = []\n",
        "with open('/content/Phi-pp1ab-GBH-50w.txt', 'r') as file:\n",
        "    for line in file:\n",
        "        if 'Checking' in line:\n",
        "            position = line.split('at')[2].split('between')[0].strip()\n",
        "        elif 'PHI (Normal):' in line:\n",
        "            phi_value = float(line.split(':')[1].strip())\n",
        "            data.append([position, phi_value])\n",
        "\n",
        "# Create a DataFrame from the extracted data\n",
        "df = pd.DataFrame(data, columns=['Position', 'PHI'])\n",
        "\n",
        "print(df)"
      ],
      "metadata": {
        "colab": {
          "base_uri": "https://localhost:8080/"
        },
        "id": "SREEF0TmR830",
        "outputId": "b6954729-1c21-46bc-f4ad-ea8c7a25e48a"
      },
      "execution_count": 15,
      "outputs": [
        {
          "output_type": "stream",
          "name": "stdout",
          "text": [
            "    Position  PHI (Normal)\n",
            "0        500         0.556\n",
            "1        510         0.706\n",
            "2        520         0.776\n",
            "3        530         0.869\n",
            "4        540         0.912\n",
            "..       ...           ...\n",
            "456     5060         0.673\n",
            "457     5070         0.660\n",
            "458     5080         0.675\n",
            "459     5090         0.626\n",
            "460     5100         0.655\n",
            "\n",
            "[461 rows x 2 columns]\n"
          ]
        }
      ]
    },
    {
      "cell_type": "code",
      "source": [],
      "metadata": {
        "id": "78PeSRrOR9AK"
      },
      "execution_count": null,
      "outputs": []
    },
    {
      "cell_type": "code",
      "source": [
        "t = 'Checking for recombination at 510 between 10 and 1010'"
      ],
      "metadata": {
        "id": "GVcogZLDR9DM"
      },
      "execution_count": 12,
      "outputs": []
    },
    {
      "cell_type": "code",
      "source": [
        "t.split('at')"
      ],
      "metadata": {
        "colab": {
          "base_uri": "https://localhost:8080/"
        },
        "id": "9u1LpdH9R9JK",
        "outputId": "32203698-d342-4034-bfb0-ca4c2d567f5d"
      },
      "execution_count": 13,
      "outputs": [
        {
          "output_type": "execute_result",
          "data": {
            "text/plain": [
              "['Checking for recombin', 'ion ', ' 510 between 10 and 1010']"
            ]
          },
          "metadata": {},
          "execution_count": 13
        }
      ]
    }
  ]
}